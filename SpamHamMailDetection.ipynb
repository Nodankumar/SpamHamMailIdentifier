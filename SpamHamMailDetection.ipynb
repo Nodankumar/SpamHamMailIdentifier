{
  "nbformat": 4,
  "nbformat_minor": 0,
  "metadata": {
    "colab": {
      "name": "SpamHamMailDetection.ipynb",
      "provenance": [],
      "collapsed_sections": [],
      "authorship_tag": "ABX9TyPjcg9TIdRd0E9/KNbsWhRX",
      "include_colab_link": true
    },
    "kernelspec": {
      "name": "python3",
      "display_name": "Python 3"
    },
    "language_info": {
      "name": "python"
    }
  },
  "cells": [
    {
      "cell_type": "markdown",
      "metadata": {
        "id": "view-in-github",
        "colab_type": "text"
      },
      "source": [
        "<a href=\"https://colab.research.google.com/github/NodanKumar/SpamHamMailIdentifier/blob/main/SpamHamMailDetection.ipynb\" target=\"_parent\"><img src=\"https://colab.research.google.com/assets/colab-badge.svg\" alt=\"Open In Colab\"/></a>"
      ]
    },
    {
      "cell_type": "markdown",
      "metadata": {
        "id": "D7RUUIMif7Vq"
      },
      "source": [
        "**Import Libraries**\n"
      ]
    },
    {
      "cell_type": "code",
      "metadata": {
        "id": "70oYa3-dfwVJ"
      },
      "source": [
        "import numpy as np \n",
        "import pandas as pd\n",
        "from sklearn.model_selection import train_test_split\n",
        "from sklearn.feature_extraction.text import TfidfVectorizer\n",
        "from sklearn.svm import LinearSVC\n",
        "from sklearn.metrics import accuracy_score\n",
        "import pickle"
      ],
      "execution_count": null,
      "outputs": []
    },
    {
      "cell_type": "markdown",
      "metadata": {
        "id": "B6mlgoMUi-_j"
      },
      "source": [
        "***Data preprocesing***"
      ]
    },
    {
      "cell_type": "code",
      "metadata": {
        "id": "NH40f1WcjH99"
      },
      "source": [
        "# Load the data set to pandas data frame\n",
        "raw_mail_data = pd.read_csv(\"spamham.csv\")\n",
        "# replace the null values with the null string\n",
        "mail_data = raw_mail_data.where((pd.notnull(raw_mail_data)), \" \" )"
      ],
      "execution_count": null,
      "outputs": []
    },
    {
      "cell_type": "code",
      "metadata": {
        "colab": {
          "base_uri": "https://localhost:8080/"
        },
        "id": "XqxACetXqWvg",
        "outputId": "b79029ab-04bb-4fba-f0a9-83c0311acae0"
      },
      "source": [
        "print(raw_mail_data.shape)\n",
        "print(mail_data.shape)"
      ],
      "execution_count": null,
      "outputs": [
        {
          "output_type": "stream",
          "name": "stdout",
          "text": [
            "(5572, 2)\n",
            "(5572, 2)\n"
          ]
        }
      ]
    },
    {
      "cell_type": "code",
      "metadata": {
        "colab": {
          "base_uri": "https://localhost:8080/",
          "height": 202
        },
        "id": "gzm21K8tqnDY",
        "outputId": "5313bb29-b7e6-4336-c5eb-5b1f89c8be45"
      },
      "source": [
        "#sample data\n",
        "mail_data.head()"
      ],
      "execution_count": null,
      "outputs": [
        {
          "output_type": "execute_result",
          "data": {
            "text/html": [
              "<div>\n",
              "<style scoped>\n",
              "    .dataframe tbody tr th:only-of-type {\n",
              "        vertical-align: middle;\n",
              "    }\n",
              "\n",
              "    .dataframe tbody tr th {\n",
              "        vertical-align: top;\n",
              "    }\n",
              "\n",
              "    .dataframe thead th {\n",
              "        text-align: right;\n",
              "    }\n",
              "</style>\n",
              "<table border=\"1\" class=\"dataframe\">\n",
              "  <thead>\n",
              "    <tr style=\"text-align: right;\">\n",
              "      <th></th>\n",
              "      <th>Category</th>\n",
              "      <th>Message</th>\n",
              "    </tr>\n",
              "  </thead>\n",
              "  <tbody>\n",
              "    <tr>\n",
              "      <th>0</th>\n",
              "      <td>ham</td>\n",
              "      <td>Go until jurong point, crazy.. Available only ...</td>\n",
              "    </tr>\n",
              "    <tr>\n",
              "      <th>1</th>\n",
              "      <td>ham</td>\n",
              "      <td>Ok lar... Joking wif u oni...</td>\n",
              "    </tr>\n",
              "    <tr>\n",
              "      <th>2</th>\n",
              "      <td>spam</td>\n",
              "      <td>Free entry in 2 a wkly comp to win FA Cup fina...</td>\n",
              "    </tr>\n",
              "    <tr>\n",
              "      <th>3</th>\n",
              "      <td>ham</td>\n",
              "      <td>U dun say so early hor... U c already then say...</td>\n",
              "    </tr>\n",
              "    <tr>\n",
              "      <th>4</th>\n",
              "      <td>ham</td>\n",
              "      <td>Nah I don't think he goes to usf, he lives aro...</td>\n",
              "    </tr>\n",
              "  </tbody>\n",
              "</table>\n",
              "</div>"
            ],
            "text/plain": [
              "  Category                                            Message\n",
              "0      ham  Go until jurong point, crazy.. Available only ...\n",
              "1      ham                      Ok lar... Joking wif u oni...\n",
              "2     spam  Free entry in 2 a wkly comp to win FA Cup fina...\n",
              "3      ham  U dun say so early hor... U c already then say...\n",
              "4      ham  Nah I don't think he goes to usf, he lives aro..."
            ]
          },
          "metadata": {},
          "execution_count": 4
        }
      ]
    },
    {
      "cell_type": "code",
      "metadata": {
        "id": "sOTiitQhq0zJ"
      },
      "source": [
        "# label spam mail has{0} and ham mail has {1}\n",
        "mail_data.loc[mail_data[\"Category\"]== \"spam\", \"category\",] = 0\n",
        "mail_data.loc[mail_data[\"Category\"]==\"ham\", \"category\",] = 1"
      ],
      "execution_count": null,
      "outputs": []
    },
    {
      "cell_type": "code",
      "metadata": {
        "colab": {
          "base_uri": "https://localhost:8080/"
        },
        "id": "4bhMNz9Gr_xV",
        "outputId": "53f58ee4-8d30-45be-fbe7-2bba10e7f37a"
      },
      "source": [
        "# seperate the data has text and labels x-->text, y-->labels\n",
        "x = mail_data[\"Message\"]\n",
        "y = mail_data[\"category\"]\n",
        "print(x)\n",
        "print(\"....\")\n",
        "print(y)"
      ],
      "execution_count": null,
      "outputs": [
        {
          "output_type": "stream",
          "name": "stdout",
          "text": [
            "0       Go until jurong point, crazy.. Available only ...\n",
            "1                           Ok lar... Joking wif u oni...\n",
            "2       Free entry in 2 a wkly comp to win FA Cup fina...\n",
            "3       U dun say so early hor... U c already then say...\n",
            "4       Nah I don't think he goes to usf, he lives aro...\n",
            "                              ...                        \n",
            "5567    This is the 2nd time we have tried 2 contact u...\n",
            "5568                 Will ü b going to esplanade fr home?\n",
            "5569    Pity, * was in mood for that. So...any other s...\n",
            "5570    The guy did some bitching but I acted like i'd...\n",
            "5571                           Rofl. Its true to its name\n",
            "Name: Message, Length: 5572, dtype: object\n",
            "....\n",
            "0       1.0\n",
            "1       1.0\n",
            "2       0.0\n",
            "3       1.0\n",
            "4       1.0\n",
            "       ... \n",
            "5567    0.0\n",
            "5568    1.0\n",
            "5569    1.0\n",
            "5570    1.0\n",
            "5571    1.0\n",
            "Name: category, Length: 5572, dtype: float64\n"
          ]
        }
      ]
    },
    {
      "cell_type": "markdown",
      "metadata": {
        "id": "Pd2Zopfltf7M"
      },
      "source": [
        "**split the data has train data and test data**"
      ]
    },
    {
      "cell_type": "code",
      "metadata": {
        "id": "TwYK_Miws8fi"
      },
      "source": [
        "x_train, x_test, y_train, y_test = train_test_split(x, y, test_size=0.1,  random_state=3)"
      ],
      "execution_count": null,
      "outputs": []
    },
    {
      "cell_type": "markdown",
      "metadata": {
        "id": "DfIt2coitoLF"
      },
      "source": [
        "**Feature extraction**\n",
        "\n",
        "---\n",
        "\n"
      ]
    },
    {
      "cell_type": "code",
      "metadata": {
        "id": "wfqBTzAatvFt",
        "colab": {
          "base_uri": "https://localhost:8080/"
        },
        "outputId": "6bbed194-6431-4e28-da3d-d9e400dffb10"
      },
      "source": [
        "# Transform the test data to feature vectors that can be used as input to the SVM model using TfidfVectorizer\n",
        "#convert the text to lower case letters\n",
        "feature_extraction = TfidfVectorizer(min_df=1, stop_words=\"english\",lowercase=\"True\")\n",
        "x_train_features = feature_extraction.fit_transform(x_train)\n",
        "x_test_features = feature_extraction.transform(x_test)\n",
        "print(x_train_features.shape)\n",
        "print(x_test_features.shape)"
      ],
      "execution_count": null,
      "outputs": [
        {
          "output_type": "stream",
          "name": "stdout",
          "text": [
            "(5014, 7959)\n",
            "(558, 7959)\n"
          ]
        }
      ]
    },
    {
      "cell_type": "code",
      "metadata": {
        "colab": {
          "base_uri": "https://localhost:8080/"
        },
        "id": "F2uUOhX7vteh",
        "outputId": "3254548d-ef2c-4d9a-edd4-29d8315952d1"
      },
      "source": [
        "# Convert y_train and y_test to integers\n",
        "y_train = y_train.astype(int)\n",
        "y_test = y_test.astype(\"int\")\n",
        "\n",
        "print(y_train)\n",
        "print(y_test)"
      ],
      "execution_count": null,
      "outputs": [
        {
          "output_type": "stream",
          "name": "stdout",
          "text": [
            "1794    1\n",
            "537     1\n",
            "5437    1\n",
            "3103    1\n",
            "186     1\n",
            "       ..\n",
            "789     0\n",
            "968     1\n",
            "1667    1\n",
            "3321    1\n",
            "1688    0\n",
            "Name: category, Length: 5014, dtype: int64\n",
            "2632    0\n",
            "454     1\n",
            "983     0\n",
            "1282    1\n",
            "4610    1\n",
            "       ..\n",
            "957     1\n",
            "1717    1\n",
            "934     1\n",
            "2054    1\n",
            "3673    1\n",
            "Name: category, Length: 558, dtype: int64\n"
          ]
        }
      ]
    },
    {
      "cell_type": "markdown",
      "metadata": {
        "id": "WN2P5Bo8wznk"
      },
      "source": [
        "**Training the model ----> Support Vector Machine**"
      ]
    },
    {
      "cell_type": "code",
      "metadata": {
        "id": "PWBB-MTkwvZ8"
      },
      "source": [
        "#training the support vector machine using taining data\n",
        "model = LinearSVC()\n",
        "model.fit(x_train_features, y_train)\n",
        "pickle.dump(model, open(\"BreastCancerModel.pkl\", \"wb\"))"
      ],
      "execution_count": null,
      "outputs": []
    },
    {
      "cell_type": "markdown",
      "metadata": {
        "id": "OgsOLm19xmMS"
      },
      "source": [
        "**Evaluation of the model**"
      ]
    },
    {
      "cell_type": "code",
      "metadata": {
        "colab": {
          "base_uri": "https://localhost:8080/"
        },
        "id": "22V17GCZxjFm",
        "outputId": "3274f68f-2bc1-4ddc-a89e-686ce4fa52b9"
      },
      "source": [
        "#prediction on training data\n",
        "prediction_on_training_data = model.predict(x_train_features)\n",
        "accuracy_of_training_data =  accuracy_score(y_train, prediction_on_training_data)\n",
        "print(\"accuracy of training data :\" ,accuracy_of_training_data)"
      ],
      "execution_count": null,
      "outputs": [
        {
          "output_type": "stream",
          "name": "stdout",
          "text": [
            "accuracy of training data : 0.9996011168727563\n"
          ]
        }
      ]
    },
    {
      "cell_type": "code",
      "metadata": {
        "colab": {
          "base_uri": "https://localhost:8080/"
        },
        "id": "A8Q2Haurye8o",
        "outputId": "88bf3933-3dc7-405f-aaf2-c822cde9c375"
      },
      "source": [
        "#prediction on test data\n",
        "prediction_on_test_data = model.predict(x_test_features)\n",
        "accuracy_of_test_data = accuracy_score(y_test, prediction_on_test_data)\n",
        "print(\"accuracy of test data : \", accuracy_of_test_data)"
      ],
      "execution_count": null,
      "outputs": [
        {
          "output_type": "stream",
          "name": "stdout",
          "text": [
            "accuracy of test data :  0.9874551971326165\n"
          ]
        }
      ]
    },
    {
      "cell_type": "code",
      "metadata": {
        "id": "3DIsiNBxfwGj"
      },
      "source": [
        "input_mail = [\"did you catch the bus ? Are you frying an egg ? Did you make a tea? Are you eating your mom's left over dinner ? \"]\n",
        "\n",
        "#covert text to feature vectors\n",
        "input_mail_features = feature_extraction.transform(input_mail)\n",
        "\n",
        "# Making prediction\n",
        "prediction =  model.predict(input_mail_features)"
      ],
      "execution_count": null,
      "outputs": []
    },
    {
      "cell_type": "code",
      "metadata": {
        "colab": {
          "base_uri": "https://localhost:8080/"
        },
        "id": "wIG41PvhjM2d",
        "outputId": "d5ab41f2-f7b0-468d-c193-556bb8f1565f"
      },
      "source": [
        "if prediction[0]==0:\n",
        "  print(\"spam mail\")\n",
        "else:\n",
        "  print(\"ham mail\")"
      ],
      "execution_count": null,
      "outputs": [
        {
          "output_type": "stream",
          "name": "stdout",
          "text": [
            "ham mail\n"
          ]
        }
      ]
    }
  ]
}